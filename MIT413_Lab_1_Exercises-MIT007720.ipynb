{
 "cells": [
  {
   "cell_type": "markdown",
   "metadata": {
    "id": "69_NRxFyaO4w"
   },
   "source": []
  },
  {
   "cell_type": "markdown",
   "metadata": {
    "id": "1vdi7TMhR8ro"
   },
   "source": [
    "# **Exercise 1**"
   ]
  },
  {
   "cell_type": "markdown",
   "metadata": {
    "id": "pkhO4qzeLQAj"
   },
   "source": []
  },
  {
   "cell_type": "markdown",
   "metadata": {
    "id": "K07Iy_djSILj"
   },
   "source": [
    "Take the sentence: **All work and no play makes Jack a dull boy.** Store each word in a separate variable, then print out the sentence on one line using print."
   ]
  },
  {
   "cell_type": "code",
   "execution_count": null,
   "metadata": {
    "colab": {
     "base_uri": "https://localhost:8080/"
    },
    "id": "2EzEi9iORfCs",
    "outputId": "0e23d3bc-0b64-4119-e118-1c7472f8398b"
   },
   "outputs": [
    {
     "name": "stdout",
     "output_type": "stream",
     "text": [
      "All work and no play makes Jack a dull boy\n"
     ]
    }
   ],
   "source": [
    "### put your code here\n",
    "text1 = \"All\"\n",
    "text2 = \"work\"\n",
    "text3 = \"and\"\n",
    "text4 = \"no\"\n",
    "text5 = \"play\"\n",
    "text6 = \"makes\"\n",
    "text7 = \"Jack\"\n",
    "text8 = \"a\"\n",
    "text9 = \"dull\"\n",
    "text10 = \"boy\"\n",
    "\n",
    "# I am Printing all the above sentence on one line using print\n",
    "print(text1, text2, text3, text4, text5, text6, text7, text8, text9, text10)\n",
    "\n",
    "\n",
    "\n"
   ]
  },
  {
   "cell_type": "markdown",
   "metadata": {
    "id": "PEI_7pe1S8kY"
   },
   "source": [
    "# **Exercise 2**"
   ]
  },
  {
   "cell_type": "markdown",
   "metadata": {
    "id": "fEQ1q7fHTBbt"
   },
   "source": [
    "Assume the days of the week are numbered 0,1,2,3,4,5,6 from Sunday to Saturday. Write a function which is given the day number, and it returns the day name (a string)."
   ]
  },
  {
   "cell_type": "code",
   "execution_count": 1,
   "metadata": {
    "colab": {
     "base_uri": "https://localhost:8080/",
     "height": 315
    },
    "id": "R6auEfU7TAA5",
    "outputId": "74e8835a-5324-4ba8-cba7-855a01563fa1"
   },
   "outputs": [
    {
     "name": "stdout",
     "output_type": "stream",
     "text": [
      "Tuesday\n",
      "Invalid day number\n",
      "Thursday\n",
      "Invalid day number\n"
     ]
    }
   ],
   "source": [
    "### put your code here\n",
    "def day(day_number):\n",
    "    days = [\"Sunday\", \"Monday\", \"Tuesday\", \"Wednesday\", \"Thursday\", \"Friday\", \"Saturday\"]\n",
    "\n",
    "    # I Checked if the day_number are within valid range\n",
    "    if 0 <= day_number <= 7:\n",
    "        return days[day_number - 1]\n",
    "    else:\n",
    "        return \"Invalid day number\"\n",
    "\n",
    "# Trying it\n",
    "print(day(3))  \n",
    "print(day(8))  \n",
    "print(day(5))  \n",
    "print(day(10)) \n"
   ]
  },
  {
   "cell_type": "markdown",
   "metadata": {
    "id": "yXnR8YfcT9-2"
   },
   "source": [
    "# **Exercise 3**"
   ]
  },
  {
   "cell_type": "markdown",
   "metadata": {
    "id": "ei77UPDBUBii"
   },
   "source": [
    "Write a function `scalar_mult(s, v)` that takes a number, `s`, and a list, `v` and returns the scalar multiple of `v` by `s`. :\n",
    "\n",
    "`test(scalar_mult(5, [1, 2]) == [5, 10])` <br>\n",
    "`test(scalar_mult(3, [1, 0, -1]) == [3, 0, -3])` <br>\n",
    "`test(scalar_mult(7, [3, 0, 5, 11, 2]) == [21, 0, 35, 77, 14])`\n",
    "\n"
   ]
  },
  {
   "cell_type": "code",
   "execution_count": 9,
   "metadata": {
    "id": "rxPeZsJzUbt4"
   },
   "outputs": [
    {
     "name": "stdout",
     "output_type": "stream",
     "text": [
      "True\n",
      "True\n",
      "True\n"
     ]
    }
   ],
   "source": [
    "### Put your code here\n",
    "def scalar_mult(s, v):\n",
    "    result = []\n",
    "    for x in v:\n",
    "        result.append(s * x)\n",
    "    return result\n",
    "#Trials\n",
    "print(scalar_mult(5, [1, 2]) == [5, 10])\n",
    "print(scalar_mult(3, [1, 0, -1]) == [3, 0, -3])\n",
    "print(scalar_mult(7, [3, 0, 5, 11, 2]) == [21, 0, 35, 77, 14])"
   ]
  },
  {
   "cell_type": "markdown",
   "metadata": {
    "id": "0lNibrI7VHP1"
   },
   "source": [
    "# **Exercise 4**"
   ]
  },
  {
   "cell_type": "markdown",
   "metadata": {
    "id": "X8JZ_LHeVKNy"
   },
   "source": [
    "Write a function named readposint that uses the input dialog to prompt the user for a positive integer and then checks the input to confirm that it meets the requirements. It should be able to handle inputs that cannot be converted to int, as well as negative ints, and edge cases (e.g. when the user closes the dialog, or does not enter anything at all.)\n",
    "\n",
    "**NB: Remeber to use Python Exceptions**"
   ]
  },
  {
   "cell_type": "code",
   "execution_count": 7,
   "metadata": {
    "id": "Bx1GvirnVVSw"
   },
   "outputs": [],
   "source": [
    "### Put your code here\n",
    "def readposint():\n",
    "    \"\"\"Prompts the user for a positive integer using an input dialog, \n",
    "    handling invalid inputs, non-integers, negative values, and edge cases.\n",
    "\n",
    "    Returns:\n",
    "        A positive integer entered by the user.\n",
    "    \"\"\"\n",
    "\n",
    "    while True:\n",
    "        try:\n",
    "            # Prompt the user for input\n",
    "            user_input = input(\"Please enter a positive integer: \")\n",
    "\n",
    "            # Check if the input is empty or the dialog was closed\n",
    "            if not user_input:\n",
    "                raise ValueError(\"No input provided.\")\n",
    "\n",
    "            # Attempt to convert the input to an integer\n",
    "            int_value = int(user_input)\n",
    "\n",
    "            # Check if the integer is positive\n",
    "            if int_value > 0:\n",
    "                return int_value\n",
    "            else:\n",
    "                raise ValueError(\"Please enter a positive integer.\")\n",
    "\n",
    "        except ValueError as e:\n",
    "            print(f\"Invalid input: {e}\")\n",
    "            print(\"Please try again.\")"
   ]
  },
  {
   "cell_type": "code",
   "execution_count": 8,
   "metadata": {},
   "outputs": [
    {
     "name": "stdout",
     "output_type": "stream",
     "text": [
      "Please enter a positive integer: -9\n",
      "Invalid input: Please enter a positive integer.\n",
      "Please try again.\n",
      "Please enter a positive integer: 9\n",
      "You entered the positive integer: 9\n"
     ]
    }
   ],
   "source": [
    "positive_int = readposint()\n",
    "\n",
    "print(f\"You entered the positive integer: {positive_int}\")"
   ]
  },
  {
   "cell_type": "markdown",
   "metadata": {
    "id": "i-nBjIeCYxup"
   },
   "source": [
    "# **Exercise** 5"
   ]
  },
  {
   "cell_type": "markdown",
   "metadata": {
    "id": "JpoTimtdY45o"
   },
   "source": [
    "Write a class named Pet, which should have the following data attributes:\n",
    "  * `_ _name` (for the name of a pet)\n",
    "  * `_ _animal_type` (for the type of animal that a pet is. Example values are ‘Dog’, ‘Cat’,\n",
    "and ‘Bird’)\n",
    "  * `_ _age` (for the pet’s age)\n",
    "The Pet class should have an `_ _init_ _` method that creates these attributes. It should also\n",
    "have the following methods:\n",
    "  * set_name\n",
    "      This method assigns a value to the `_ _name` field.\n",
    "  * set_animal_type\n",
    "      This method assigns a value to the `_ _animal_type` field.\n",
    "  * set_age\n",
    "     This method assigns a value to the `_ _age` field.\n",
    "  * get_name\n",
    "     This method returns the value of the `_ _ name` field.\n",
    "  * `get_animal_type`\n",
    "     This method returns the value of the _ _animal_type field.\n",
    "  * `get_age`\n",
    "     This method returns the value of the _ _age field"
   ]
  },
  {
   "cell_type": "code",
   "execution_count": 3,
   "metadata": {
    "id": "BEvxuyUGaHsK"
   },
   "outputs": [
    {
     "name": "stdout",
     "output_type": "stream",
     "text": [
      "Name: Fie Nipa\n",
      "Animal Type: Rabbit\n",
      "Age: 12\n"
     ]
    }
   ],
   "source": [
    "# Defining Pet class\n",
    "class Pet:\n",
    "    def __init__(self, name, animal_type, age):\n",
    "        self.__name = name\n",
    "        self.__animal_type = animal_type\n",
    "        self.__age = age\n",
    "\n",
    "    def set_name(self, name):\n",
    "        self.__name = name\n",
    "\n",
    "    def set_animal_type(self, animal_type):\n",
    "        self.__animal_type = animal_type\n",
    "\n",
    "    def set_age(self, age):\n",
    "        self.__age = age\n",
    "\n",
    "    def get_name(self):\n",
    "        return self.__name\n",
    "\n",
    "    def get_animal_type(self):\n",
    "        return self.__animal_type\n",
    "\n",
    "    def get_age(self):\n",
    "        return self.__age\n",
    "\n",
    "# Creating instance\n",
    "my_pet = Pet(\"Fie Nipa\", \"Rabbit\", 12)\n",
    "\n",
    "# Test the methods\n",
    "print(\"Name:\", my_pet.get_name())\n",
    "print(\"Animal Type:\", my_pet.get_animal_type())\n",
    "print(\"Age:\", my_pet.get_age())\n",
    "\n"
   ]
  }
 ],
 "metadata": {
  "colab": {
   "provenance": []
  },
  "kernelspec": {
   "display_name": "Python 3 (ipykernel)",
   "language": "python",
   "name": "python3"
  },
  "language_info": {
   "codemirror_mode": {
    "name": "ipython",
    "version": 3
   },
   "file_extension": ".py",
   "mimetype": "text/x-python",
   "name": "python",
   "nbconvert_exporter": "python",
   "pygments_lexer": "ipython3",
   "version": "3.9.13"
  }
 },
 "nbformat": 4,
 "nbformat_minor": 1
}
